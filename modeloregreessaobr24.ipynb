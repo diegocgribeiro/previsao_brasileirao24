{
  "nbformat": 4,
  "nbformat_minor": 0,
  "metadata": {
    "colab": {
      "provenance": [],
      "authorship_tag": "ABX9TyN/puKMFbAhWT2H8HaLm9rV",
      "include_colab_link": true
    },
    "kernelspec": {
      "name": "python3",
      "display_name": "Python 3"
    },
    "language_info": {
      "name": "python"
    }
  },
  "cells": [
    {
      "cell_type": "markdown",
      "metadata": {
        "id": "view-in-github",
        "colab_type": "text"
      },
      "source": [
        "<a href=\"https://colab.research.google.com/github/diegocgribeiro/previsao_brasileirao24/blob/main/modeloregreessaobr24.ipynb\" target=\"_parent\"><img src=\"https://colab.research.google.com/assets/colab-badge.svg\" alt=\"Open In Colab\"/></a>"
      ]
    },
    {
      "cell_type": "markdown",
      "source": [
        "**Construção de Base de Dados e Previsão Brasileirão!**"
      ],
      "metadata": {
        "id": "519U8-k9ew4U"
      }
    },
    {
      "cell_type": "code",
      "source": [
        "pip install pandas sqlalchemy pymysql\n",
        "pip install mysql-connector-python"
      ],
      "metadata": {
        "id": "2aXXtCZfY-KS"
      },
      "execution_count": null,
      "outputs": []
    },
    {
      "cell_type": "markdown",
      "source": [
        "**Função para envio ao Banco de Dados!**\n",
        "\n",
        "Obs: Informações do banco de dados foram ocultadas."
      ],
      "metadata": {
        "id": "l7aA2WpcnL0F"
      }
    },
    {
      "cell_type": "code",
      "source": [
        "def enviar_para_mysql(df, tabela):\n",
        "    try:\n",
        "        conexao = mysql.connector.connect(\n",
        "        host='*****.mysql.uhserver.com',\n",
        "        user='data_user',\n",
        "        password='*******',\n",
        "        database='******'\n",
        ")\n",
        "        cursor = conexao.cursor()\n",
        "        cursor.execute(f\"\"\"\n",
        "        CREATE TABLE IF NOT EXISTS {tabela} (\n",
        "            Posição INT,\n",
        "            Times VARCHAR(100),\n",
        "            Pontos FLOAT,\n",
        "            Jogos INT,\n",
        "            Jogos_Casa INT,\n",
        "            Jogos_Fora INT,\n",
        "            Vitorias INT,\n",
        "            Vitorias_Casa INT,\n",
        "            Vitorias_Fora INT,\n",
        "            Derrotas INT,\n",
        "            Derrotas_Casa INT,\n",
        "            Derrotas_Fora INT,\n",
        "            Empates INT,\n",
        "            Empates_Casa INT,\n",
        "            Empates_Fora INT,\n",
        "            Gols_Feitos INT,\n",
        "            Gols_Feitos_Casa INT,\n",
        "            Gols_Feitos_Fora INT,\n",
        "            Gols_Tomados INT,\n",
        "            Gols_Tomados_Casa INT,\n",
        "            Gols_Tomados_Fora INT,\n",
        "            Saldo_de_Gols INT,\n",
        "            Saldo_de_Gols_Casa INT,\n",
        "            Saldo_de_Gols_Fora INT,\n",
        "            Aproveitamento FLOAT,\n",
        "            Aproveitamento_Casa FLOAT,\n",
        "            Aproveitamento_Fora FLOAT,\n",
        "            Rodada INT\n",
        "        )\n",
        "        \"\"\")\n",
        "\n",
        "        # Insert data from classificacoes_df into the table\n",
        "        for index, row in classificacoes_df.iterrows():\n",
        "            cursor.execute(f\"\"\"\n",
        "            INSERT INTO {tabela} (Posição, Times, Pontos, Jogos, Jogos_Casa, Jogos_Fora, Vitorias, Vitorias_Casa, Vitorias_Fora,\n",
        "                                  Derrotas, Derrotas_Casa, Derrotas_Fora, Empates, Empates_Casa, Empates_Fora,\n",
        "                                  Gols_Feitos, Gols_Feitos_Casa, Gols_Feitos_Fora, Gols_Tomados, Gols_Tomados_Casa,\n",
        "                                  Gols_Tomados_Fora, Saldo_de_Gols, Saldo_de_Gols_Casa, Saldo_de_Gols_Fora,\n",
        "                                  Aproveitamento, Aproveitamento_Casa, Aproveitamento_Fora, Rodada)\n",
        "            VALUES (%s, %s, %s, %s, %s, %s, %s, %s, %s, %s, %s, %s, %s, %s, %s, %s, %s, %s, %s, %s, %s, %s, %s, %s, %s, %s, %s, %s)\n",
        "            \"\"\", tuple(row))\n",
        "\n",
        "        # Commit changes\n",
        "        conexao.commit()\n",
        "\n",
        "        print(f'Dados inseridos com sucesso na tabela {tabela}')\n",
        "\n",
        "    except mysql.connector.Error as err:\n",
        "        print({err})\n",
        "\n",
        "    finally:\n",
        "        if conexao.is_connected():\n",
        "            cursor.close()\n",
        "            conexao.close()"
      ],
      "metadata": {
        "id": "zsOwSL3CmH2Y"
      },
      "execution_count": null,
      "outputs": []
    },
    {
      "cell_type": "markdown",
      "source": [
        "**WEB SCRAPING**\n",
        "\n",
        "Cédula que usando a função BeautifulSoup, faz web scraping, obtendo os dados do site e transformando em DataFrame"
      ],
      "metadata": {
        "id": "yvm91wYqnkjs"
      }
    },
    {
      "cell_type": "code",
      "source": [
        "import requests\n",
        "from bs4 import BeautifulSoup\n",
        "import pandas as pd\n",
        "times = [\n",
        "    \"Internacional\", \"Bahia\", \"Criciúma\", \"Juventude\", \"Fluminense\",\n",
        "    \"Red Bull Bragantino\", \"São Paulo\", \"Fortaleza\", \"Atlético-GO\",\n",
        "    \"Flamengo\", \"Vasco\", \"Grêmio\", \"Corinthians\", \"Atlético-MG\",\n",
        "    \"Athletico-PR\", \"Cuiabá\", \"Cruzeiro\", \"Botafogo\", \"Vitória\", \"Palmeiras\", \"Inter\", \"Bragantino\"\n",
        "]\n",
        "\n",
        "url = \"https://olympics.com/pt/noticias/campeonato-brasileiro-2024-todos-resultados\"\n",
        "\n",
        "# Adicionar um cabeçalho User-Agent para simular um navegador real\n",
        "headers = {\n",
        "    \"User-Agent\": \"Mozilla/5.0 (Windows NT 10.0; Win64; x64) AppleWebKit/537.36 (KHTML, like Gecko) Chrome/58.0.3029.110 Safari/537.36\"\n",
        "}\n",
        "\n",
        "response = requests.get(url, headers=headers)\n",
        "\n",
        "if response.status_code == 200:\n",
        "    soup = BeautifulSoup(response.content, 'html.parser')\n",
        "    results = soup.find_all('li')\n",
        "    data = []\n",
        "    rodadas = []\n",
        "    for result in results:\n",
        "        result_text = result.get_text().strip()\n",
        "        if any(time in result_text for time in times):\n",
        "            data.append({\"Resultado\": result_text})\n",
        "else:\n",
        "    print(f\"Erro: Não foi possível acessar a página. Status Code: {response.status_code}\")\n",
        "\n",
        "df = pd.DataFrame(data)"
      ],
      "metadata": {
        "id": "waCv9HQ3hutj"
      },
      "execution_count": null,
      "outputs": []
    },
    {
      "cell_type": "markdown",
      "source": [
        "**Formatação e manipulação dos dados**\n",
        "\n",
        "Feito a separação em 4 colunas (Time A, Gols Time A, Time B e Gols Time B) e feito a conversão para arquivo CSV"
      ],
      "metadata": {
        "id": "ZUHb6FyAoDT1"
      }
    },
    {
      "cell_type": "code",
      "source": [
        "for i in range(1, 39):\n",
        "    for j in range(10):\n",
        "      rodadas.append(i)\n",
        "\n",
        "df['Rodada'] = rodadas\n",
        "df = df[~df['Resultado'].str.contains(r'A definir|adiado', case=False, na=False)]\n",
        "df['Resultado'] = df['Resultado'].replace({'Atlético-MG': 'AtléticoMG', 'Atlético-GO': 'AtléticoGO', 'Athletico-PR': 'AthleticoPR', 'São Paulo': 'SPFC', 'Red Bull Bragantino': 'Bragantino', 'Internacional': 'Inter'}, regex=True)\n",
        "df[['Time A']] = df['Resultado'].str.extract(r'(\\w+)')\n",
        "df[['Time B']] = df['Resultado'].str.extract(r'(\\w+)$')\n",
        "df[['Gols Time A']] = df['Resultado'].str.extract(r'(\\d+)')\n",
        "df[['Gols Time B']] = df['Resultado'].str.extract(r'x (\\d+)')\n",
        "times_a = set(df['Time A'].unique())\n",
        "times_b = set(df['Time B'].unique())\n",
        "\n",
        "df.to_csv('resultados.csv', index=False)"
      ],
      "metadata": {
        "id": "TWR-rWjR4UUT"
      },
      "execution_count": null,
      "outputs": []
    },
    {
      "cell_type": "markdown",
      "source": [
        "**Construção da tabela completa**\n",
        "\n",
        "Tendo os resultados e a quantidade de gols, foi possivel montar uma tabela completa do Brasileirão por Rodada"
      ],
      "metadata": {
        "id": "bMmscED3oZrs"
      }
    },
    {
      "cell_type": "code",
      "source": [
        "import pandas as pd\n",
        "df = pd.read_csv('resultados.csv')\n",
        "futuros_jogos = df[df['Gols Time A'].isna()]\n",
        "df = df.dropna(subset=['Gols Time A'])\n",
        "classificacoes_por_rodada = []\n",
        "for rodada in range(1, df['Rodada'].max()+1):\n",
        "  df_rodada = df[df['Rodada'] <= rodada]\n",
        "  classificacao = pd.DataFrame()\n",
        "  classificacao['Posição'] = 0\n",
        "  classificacao['Times'] = df['Time A'].unique()\n",
        "  classificacao['Pontos'] = 0\n",
        "  classificacao['Jogos'] = 0\n",
        "  classificacao['Jogos Casa'] = 0\n",
        "  classificacao['Jogos Fora'] = 0\n",
        "  classificacao['Vitorias'] = 0\n",
        "  classificacao['Vitorias Casa'] = 0\n",
        "  classificacao['Vitorias Fora'] = 0\n",
        "  classificacao['Derrotas'] = 0\n",
        "  classificacao['Derrotas Casa'] = 0\n",
        "  classificacao['Derrotas Fora'] = 0\n",
        "  classificacao['Empates'] = 0\n",
        "  classificacao['Empates Casa'] = 0\n",
        "  classificacao['Empates Fora'] = 0\n",
        "  classificacao['Gols Feitos'] = 0\n",
        "  classificacao['Gols Feitos Casa'] = 0\n",
        "  classificacao['Gols Feitos Fora'] = 0\n",
        "  classificacao['Gols Tomados'] = 0\n",
        "  classificacao['Gols Tomados Casa'] = 0\n",
        "  classificacao['Gols Tomados Fora'] = 0\n",
        "  classificacao['Saldo de Gols'] = 0\n",
        "  classificacao['Saldo de Gols Casa'] = 0\n",
        "  classificacao['Saldo de Gols Fora'] = 0\n",
        "  classificacao['Aproveitamento'] = 0\n",
        "  classificacao['Aproveitamento Casa'] = 0\n",
        "  classificacao['Aproveitamento Fora'] = 0\n",
        "  for index, row in df_rodada.iterrows():\n",
        "    if row['Gols Time A'] > row['Gols Time B']:\n",
        "      classificacao.loc[(classificacao['Times'] == row['Time A']), 'Vitorias Casa'] += 1\n",
        "      classificacao.loc[(classificacao['Times'] == row['Time B']), 'Derrotas Fora'] += 1\n",
        "    elif row['Gols Time B'] > row['Gols Time A']:\n",
        "      classificacao.loc[(classificacao['Times'] == row['Time A']), 'Derrotas Casa'] += 1\n",
        "      classificacao.loc[(classificacao['Times'] == row['Time B']), 'Vitorias Fora'] += 1\n",
        "    else:\n",
        "      classificacao.loc[(classificacao['Times'] == row['Time A']), 'Empates Casa'] += 1\n",
        "      classificacao.loc[(classificacao['Times'] == row['Time B']), 'Empates Fora'] += 1\n",
        "    classificacao.loc[(classificacao['Times'] == row['Time A']), 'Gols Feitos Casa'] += row['Gols Time A']\n",
        "    classificacao.loc[(classificacao['Times'] == row['Time B']), 'Gols Feitos Fora'] += row['Gols Time B']\n",
        "    classificacao.loc[(classificacao['Times'] == row['Time A']), 'Gols Tomados Casa'] += row['Gols Time B']\n",
        "    classificacao.loc[(classificacao['Times'] == row['Time B']), 'Gols Tomados Fora'] += row['Gols Time A']\n",
        "    classificacao.loc[(classificacao['Times'] == row['Time A']), 'Jogos Casa'] += 1\n",
        "    classificacao.loc[(classificacao['Times'] == row['Time B']), 'Jogos Fora'] += 1\n",
        "  principais =['Jogos','Vitorias', 'Derrotas', 'Empates','Jogos', 'Gols Feitos', 'Gols Tomados']\n",
        "  for i in principais:\n",
        "    classificacao[i] = classificacao[f'{i} Casa'] + classificacao[f'{i} Fora']\n",
        "  #classificacao['Jogos'] = classificacao['Jogos Casa'] + classificacao['Jogos Fora']\n",
        "  #classificacao['Vitorias'] = classificacao['Vitorias Casa'] + classificacao['Vitorias Fora']\n",
        "  classificacao['Saldo de Gols Casa'] = classificacao['Gols Feitos Casa'] - classificacao['Gols Tomados Casa']\n",
        "  classificacao['Saldo de Gols Fora'] = classificacao['Gols Feitos Fora'] - classificacao['Gols Tomados Fora']\n",
        "  classificacao['Pontos'] = classificacao['Vitorias'] * 3 + classificacao['Empates'] * 1\n",
        "  classificacao['Aproveitamento'] = classificacao['Pontos']/(classificacao['Jogos']*3)\n",
        "  classificacao['Aproveitamento Casa'] = (classificacao['Vitorias Casa']*3 +classificacao['Empates Casa']*1)/(classificacao['Jogos Casa']*3)\n",
        "  classificacao['Aproveitamento Fora'] = (classificacao['Vitorias Fora']*3 +classificacao['Empates Fora']*1)/(classificacao['Jogos Fora']*3)\n",
        "  classificacao['Saldo de Gols'] = classificacao['Gols Feitos'] - classificacao['Gols Tomados']\n",
        "  classificacao = classificacao.sort_values(by=['Pontos', 'Vitorias', 'Saldo de Gols', 'Gols Feitos'], ascending=False)\n",
        "  classificacao['Posição'] = list(range(1, 21))\n",
        "  classificacao['Rodada'] = rodada\n",
        "  classificacoes_por_rodada.append(classificacao)\n",
        "classificacoes_df = pd.concat(classificacoes_por_rodada)\n",
        "classificacoes_df = classificacoes_df.sort_values(by=['Rodada', 'Pontos', 'Vitorias', 'Saldo de Gols', 'Gols Feitos'], ascending=False)\n",
        "classificacoes_df.to_excel('tabela_brasileiraoate30.xlsx')\n",
        "minhabase = classificacoes_df"
      ],
      "metadata": {
        "id": "GXPqJyahoEV7"
      },
      "execution_count": null,
      "outputs": []
    },
    {
      "cell_type": "markdown",
      "source": [
        "**Enviando para o MYSQL**\n",
        "\n",
        "Subindo a base de dados para SQL, usando a função enviar_para_mysql"
      ],
      "metadata": {
        "id": "d4nqZPSlozbQ"
      }
    },
    {
      "cell_type": "code",
      "source": [
        "enviar_para_mysql(minhabase, 'tabela_minhabase3')"
      ],
      "metadata": {
        "id": "nqT78yJZoJQg"
      },
      "execution_count": null,
      "outputs": []
    },
    {
      "cell_type": "markdown",
      "source": [
        "**Prevendo futuros resultados**\n",
        "\n",
        "Usando apenas médias de gols feitos, gols tomados e entre outros (não teve o uso de regressões lineares, modelo logisticos e entre outros), foi possivel calcular a quantidade de gols que data time irá fazer por jogo\n",
        "\n",
        "**Adicionei alguns fatores:**\n",
        "\n",
        "Fator grandeza - Levando em considerações titulos nacioanais, foi separado os 20 times, em 3 grupos, 'Pequeno', 'Médio' e 'Grande'\n",
        "\n",
        "Posição atual - Foi levado em consideração a posição atual que o time se encontra no campeoanto\n",
        "\n",
        "\n",
        "Ultimos 5 jogos - Foi levado em consideração a campanha feito nos ultimos 5 jogos do Brasileirão\n",
        "\n",
        "Obs: Fator que optei por não colocar, é se o time está jogando outra competição visto que pode ou não interferir."
      ],
      "metadata": {
        "id": "cXdCmF7bo_kv"
      }
    },
    {
      "cell_type": "code",
      "source": [
        "import pandas as pd\n",
        "import numpy as np\n",
        "\n",
        "df = pd.read_csv('resultados.csv')\n",
        "futuros_jogos = df[df['Gols Time A'].isna()]\n",
        "\n",
        "grande = [\n",
        "    \"Palmeiras\", \"Flamengo\", \"SPFC\", \"Inter\",\n",
        "    \"Cruzeiro\", \"Grêmio\", \"Fluminense\", \"Corinthians\"\n",
        "]\n",
        "\n",
        "medio = [\n",
        "    \"Botafogo\", \"Fortaleza\", \"Bahia\",\n",
        "    \"AtléticoMG\", \"Vasco\", \"AthleticoPR\"\n",
        "]\n",
        "\n",
        "pequeno = [\n",
        "    \"Criciúma\", \"Bragantino\", \"Juventude\",\n",
        "    \"Vitória\", \"Cuiabá\", \"AtléticoGO\"\n",
        "]\n",
        "\n",
        "for index, row in futuros_jogos.iterrows():\n",
        "\n",
        "  gols_feitos_casa = classificacoes_df.loc[(classificacoes_df['Times'] == row['Time A']) & (classificacoes_df['Rodada'] == classificacoes_df['Rodada'].max()), 'Gols Feitos Casa'].values[0]\n",
        "  jogos_casa = classificacoes_df.loc[(classificacoes_df['Times'] == row['Time A']) & (classificacoes_df['Rodada'] == classificacoes_df['Rodada'].max()), 'Jogos Casa'].values[0]\n",
        "  gols_tomados_fora = classificacoes_df.loc[(classificacoes_df['Times'] == row['Time B']) & (classificacoes_df['Rodada'] == classificacoes_df['Rodada'].max()), 'Gols Tomados Fora'].values[0]\n",
        "  jogos_fora = classificacoes_df.loc[(classificacoes_df['Times'] == row['Time B']) & (classificacoes_df['Rodada'] == classificacoes_df['Rodada'].max()), 'Jogos Fora'].values[0]\n",
        "  posicao_casa = classificacoes_df.loc[(classificacoes_df['Times'] == row['Time A']) & (classificacoes_df['Rodada'] == classificacoes_df['Rodada'].max()), 'Posição'].values[0]\n",
        "  posicao_fora = classificacoes_df.loc[(classificacoes_df['Times'] == row['Time B']) & (classificacoes_df['Rodada'] == classificacoes_df['Rodada'].max()), 'Posição'].values[0]\n",
        "  pontos5jogosatras = classificacoes_df.loc[(classificacoes_df['Times'] == row['Time A']) & (classificacoes_df['Rodada'] == classificacoes_df['Rodada'].max()-5), 'Pontos'].values[0]\n",
        "  pontosagora = classificacoes_df.loc[(classificacoes_df['Times'] == row['Time A']) & (classificacoes_df['Rodada'] == classificacoes_df['Rodada'].max()), 'Pontos'].values[0]\n",
        "  if row['Time A'] in grande:\n",
        "    fator_grandeza = 1.1\n",
        "  elif row['Time A'] in medio:\n",
        "    fator_grandeza = 1\n",
        "  else:\n",
        "    fator_grandeza = 0.9\n",
        "  media_gols_casa_feitos = gols_feitos_casa/jogos_casa\n",
        "  media_gols_fora_tomados = gols_tomados_fora/jogos_fora\n",
        "  fator5jogos = 1+((pontosagora - pontos5jogosatras)/50)\n",
        "  gols_esperadosA = ((((media_gols_casa_feitos*media_gols_fora_tomados))*(1+(((20-posicao_casa)*2))/100)*fator_grandeza)*fator5jogos)*0.6\n",
        "\n",
        "  gols_feitos_fora = classificacoes_df.loc[(classificacoes_df['Times'] == row['Time B']) & (classificacoes_df['Rodada'] == classificacoes_df['Rodada'].max()), 'Gols Feitos Fora'].values[0]\n",
        "  jogos_fora = classificacoes_df.loc[(classificacoes_df['Times'] == row['Time B']) & (classificacoes_df['Rodada'] == classificacoes_df['Rodada'].max()), 'Jogos Fora'].values[0]\n",
        "  gols_tomados_casa = classificacoes_df.loc[(classificacoes_df['Times'] == row['Time A']) & (classificacoes_df['Rodada'] == classificacoes_df['Rodada'].max()), 'Gols Tomados Casa'].values[0]\n",
        "  jogos_casa = classificacoes_df.loc[(classificacoes_df['Times'] == row['Time A']) & (classificacoes_df['Rodada'] == classificacoes_df['Rodada'].max()), 'Jogos Casa'].values[0]\n",
        "  pontos5jogosatras = classificacoes_df.loc[(classificacoes_df['Times'] == row['Time B']) & (classificacoes_df['Rodada'] == classificacoes_df['Rodada'].max()-5), 'Pontos'].values[0]\n",
        "  pontosagora = classificacoes_df.loc[(classificacoes_df['Times'] == row['Time B']) & (classificacoes_df['Rodada'] == classificacoes_df['Rodada'].max()), 'Pontos'].values[0]\n",
        "  if row['Time B'] in grande:\n",
        "    fator_grandeza = 1.1\n",
        "  elif row['Time B'] in medio:\n",
        "    fator_grandeza = 1\n",
        "  else:\n",
        "    fator_grandeza = 0.9\n",
        "  fator5jogos = 1+((pontosagora - pontos5jogosatras)/50)\n",
        "  media_gols_fora_feitos = gols_feitos_fora/jogos_fora\n",
        "  media_gols_casa_tomados = gols_tomados_casa/jogos_casa\n",
        "  gols_esperadosB = ((((media_gols_fora_feitos*media_gols_casa_tomados))*(1+(((20-posicao_fora)*2))/100)*fator_grandeza)*fator5jogos)*0.6\n",
        "  futuros_jogos.loc[(futuros_jogos['Time A'] == row['Time A']) & (futuros_jogos['Time B'] == row['Time B']), 'Gols Time A'] = gols_esperadosA.round(0)\n",
        "  futuros_jogos.loc[(futuros_jogos['Time A'] == row['Time A']) & (futuros_jogos['Time B'] == row['Time B']), 'Gols Time B'] = gols_esperadosB.round(0)\n",
        "futuros_jogos.to_excel('jogos_futuros.xlsx')"
      ],
      "metadata": {
        "id": "sgeAJZ4QoK2q"
      },
      "execution_count": null,
      "outputs": []
    },
    {
      "cell_type": "markdown",
      "source": [
        "**Transformando em DataFrame**"
      ],
      "metadata": {
        "id": "ft8JiQfoqU5F"
      }
    },
    {
      "cell_type": "code",
      "source": [
        "import pandas as pd\n",
        "import numpy as np\n",
        "\n",
        "df = df.dropna(subset=['Gols Time A'])\n",
        "df = pd.concat([df, futuros_jogos], ignore_index=True)\n",
        "classificacoes_por_rodada = []\n",
        "for rodada in range(1, df['Rodada'].max()+1):\n",
        "  df_rodada = df[df['Rodada'] <= rodada]\n",
        "  classificacao = pd.DataFrame()\n",
        "  classificacao['Posição'] = 0\n",
        "  classificacao['Times'] = df['Time A'].unique()\n",
        "  classificacao['Pontos'] = 0\n",
        "  classificacao['Jogos'] = 0\n",
        "  classificacao['Jogos Casa'] = 0\n",
        "  classificacao['Jogos Fora'] = 0\n",
        "  classificacao['Vitorias'] = 0\n",
        "  classificacao['Vitorias Casa'] = 0\n",
        "  classificacao['Vitorias Fora'] = 0\n",
        "  classificacao['Derrotas'] = 0\n",
        "  classificacao['Derrotas Casa'] = 0\n",
        "  classificacao['Derrotas Fora'] = 0\n",
        "  classificacao['Empates'] = 0\n",
        "  classificacao['Empates Casa'] = 0\n",
        "  classificacao['Empates Fora'] = 0\n",
        "  classificacao['Gols Feitos'] = 0\n",
        "  classificacao['Gols Feitos Casa'] = 0\n",
        "  classificacao['Gols Feitos Fora'] = 0\n",
        "  classificacao['Gols Tomados'] = 0\n",
        "  classificacao['Gols Tomados Casa'] = 0\n",
        "  classificacao['Gols Tomados Fora'] = 0\n",
        "  classificacao['Saldo de Gols'] = 0\n",
        "  classificacao['Saldo de Gols Casa'] = 0\n",
        "  classificacao['Saldo de Gols Fora'] = 0\n",
        "  classificacao['Aproveitamento'] = 0\n",
        "  classificacao['Aproveitamento Casa'] = 0\n",
        "  classificacao['Aproveitamento Fora'] = 0\n",
        "  for index, row in df_rodada.iterrows():\n",
        "    if row['Gols Time A'] > row['Gols Time B']:\n",
        "      classificacao.loc[(classificacao['Times'] == row['Time A']), 'Vitorias Casa'] += 1\n",
        "      classificacao.loc[(classificacao['Times'] == row['Time B']), 'Derrotas Fora'] += 1\n",
        "    elif row['Gols Time B'] > row['Gols Time A']:\n",
        "      classificacao.loc[(classificacao['Times'] == row['Time A']), 'Derrotas Casa'] += 1\n",
        "      classificacao.loc[(classificacao['Times'] == row['Time B']), 'Vitorias Fora'] += 1\n",
        "    else:\n",
        "      classificacao.loc[(classificacao['Times'] == row['Time A']), 'Empates Casa'] += 1\n",
        "      classificacao.loc[(classificacao['Times'] == row['Time B']), 'Empates Fora'] += 1\n",
        "    classificacao.loc[(classificacao['Times'] == row['Time A']), 'Gols Feitos Casa'] += row['Gols Time A']\n",
        "    classificacao.loc[(classificacao['Times'] == row['Time B']), 'Gols Feitos Fora'] += row['Gols Time B']\n",
        "    classificacao.loc[(classificacao['Times'] == row['Time A']), 'Gols Tomados Casa'] += row['Gols Time B']\n",
        "    classificacao.loc[(classificacao['Times'] == row['Time B']), 'Gols Tomados Fora'] += row['Gols Time A']\n",
        "    classificacao.loc[(classificacao['Times'] == row['Time A']), 'Jogos Casa'] += 1\n",
        "    classificacao.loc[(classificacao['Times'] == row['Time B']), 'Jogos Fora'] += 1\n",
        "  principais =['Jogos','Vitorias', 'Derrotas', 'Empates','Jogos', 'Gols Feitos', 'Gols Tomados']\n",
        "  for i in principais:\n",
        "    classificacao[i] = classificacao[f'{i} Casa'] + classificacao[f'{i} Fora']\n",
        "  classificacao['Jogos'] = classificacao['Jogos Casa'] + classificacao['Jogos Fora']\n",
        "  classificacao['Vitorias'] = classificacao['Vitorias Casa'] + classificacao['Vitorias Fora']\n",
        "  classificacao['Saldo de Gols Casa'] = classificacao['Gols Feitos Casa'] - classificacao['Gols Tomados Casa']\n",
        "  classificacao['Saldo de Gols Fora'] = classificacao['Gols Feitos Fora'] - classificacao['Gols Tomados Fora']\n",
        "  classificacao['Pontos'] = classificacao['Vitorias'] * 3 + classificacao['Empates'] * 1\n",
        "  classificacao['Aproveitamento'] = classificacao['Pontos']/(classificacao['Jogos']*3)\n",
        "  classificacao['Aproveitamento Casa'] = (classificacao['Vitorias Casa']*3 +classificacao['Empates Casa']*1)/(classificacao['Jogos Casa']*3)\n",
        "  classificacao['Aproveitamento Fora'] = (classificacao['Vitorias Fora']*3 +classificacao['Empates Fora']*1)/(classificacao['Jogos Fora']*3)\n",
        "  classificacao['Saldo de Gols'] = classificacao['Gols Feitos'] - classificacao['Gols Tomados']\n",
        "  classificacao = classificacao.sort_values(by=['Pontos', 'Vitorias', 'Saldo de Gols', 'Gols Feitos'], ascending=False)\n",
        "  classificacao['Posição'] = list(range(1, 21))\n",
        "  classificacao['Rodada'] = rodada\n",
        "  classificacoes_por_rodada.append(classificacao)\n",
        "classificacoes_df = pd.concat(classificacoes_por_rodada)\n",
        "classificacoes_df = classificacoes_df.sort_values(by=['Rodada', 'Pontos', 'Vitorias', 'Saldo de Gols', 'Gols Feitos'], ascending=False)\n",
        "classificacoes_df.to_excel('tabela_brasileiraocompleta.xlsx')\n",
        "classificacoes_df"
      ],
      "metadata": {
        "id": "C1S_sulwPIhE"
      },
      "execution_count": null,
      "outputs": []
    },
    {
      "cell_type": "markdown",
      "source": [
        "**Enviando a tabela para MYSQL**"
      ],
      "metadata": {
        "id": "COi83atBqlkt"
      }
    },
    {
      "cell_type": "code",
      "source": [
        "enviar_para_mysql(classificacoes_df, 'tabela_minhabaseprevisao3')"
      ],
      "metadata": {
        "id": "NZNMXKlgLGeh"
      },
      "execution_count": null,
      "outputs": []
    }
  ]
}